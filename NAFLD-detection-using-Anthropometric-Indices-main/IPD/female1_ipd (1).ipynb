{
  "cells": [
    {
      "cell_type": "code",
      "execution_count": 1,
      "metadata": {
        "colab": {
          "base_uri": "https://localhost:8080/"
        },
        "id": "5JYPMxGWSDZn",
        "outputId": "b89cc869-84cc-477d-d10f-9b8a3ff08a5e"
      },
      "outputs": [
        {
          "name": "stdout",
          "output_type": "stream",
          "text": [
            "Number of rows: 1986\n",
            "Number of columns: 15\n"
          ]
        }
      ],
      "source": [
        "import pandas as pd\n",
        "\n",
        "# Read the CSV file into a DataFrame\n",
        "df = pd.read_csv(\"FEMALE_data.csv\")\n",
        "\n",
        "# Get the number of rows and columns\n",
        "num_rows, num_columns = df.shape\n",
        "\n",
        "print(f\"Number of rows: {num_rows}\")\n",
        "print(f\"Number of columns: {num_columns}\")\n"
      ]
    },
    {
      "cell_type": "code",
      "execution_count": 3,
      "metadata": {
        "id": "5vWvThzMStcs"
      },
      "outputs": [
        {
          "name": "stdout",
          "output_type": "stream",
          "text": [
            "Number of rows: 1986\n",
            "Number of columns: 15\n"
          ]
        }
      ],
      "source": [
        "num_rows_to_read=6069\n",
        "# Read the CSV file into a DataFrame\n",
        "df = pd.read_csv(\"FEMALE_data.csv\",nrows=num_rows_to_read)\n",
        "\n",
        "# Get the number of rows and columns\n",
        "num_rows, num_columns = df.shape\n",
        "\n",
        "print(f\"Number of rows: {num_rows}\")\n",
        "print(f\"Number of columns: {num_columns}\")"
      ]
    },
    {
      "cell_type": "code",
      "execution_count": 5,
      "metadata": {
        "id": "KqVnmwuVfKQw"
      },
      "outputs": [
        {
          "name": "stdout",
          "output_type": "stream",
          "text": [
            "Values at indices with NaN values in 'Diagnosis' column:\n",
            "Empty DataFrame\n",
            "Columns: [buttockcircumference, chestcircumference, chestheight, handlength, hipbreadth, neckcircumference, shoulderlength, thighcircumference, waistcircumference, wristcircumference, Gender, Age, Heightin, Weightlbs, Diagnosis]\n",
            "Index: []\n"
          ]
        }
      ],
      "source": [
        "num_rows_to_read=6069\n",
        "# Read the CSV file into a DataFrame\n",
        "df = pd.read_csv(\"FEMALE_data.csv\",nrows=num_rows_to_read)\n",
        "nan_rows_index = df[df['Diagnosis'].isna()].index\n",
        "\n",
        "nan_rows_index = df[df['Diagnosis'].isna()].index\n",
        "\n",
        "# Get the values at the specified indices\n",
        "nan_rows_values = df.loc[nan_rows_index, :]\n",
        "\n",
        "print(f\"Values at indices with NaN values in 'Diagnosis' column:\\n{nan_rows_values}\")\n"
      ]
    },
    {
      "cell_type": "code",
      "execution_count": 6,
      "metadata": {
        "colab": {
          "base_uri": "https://localhost:8080/"
        },
        "id": "kwxCMlG4YkYE",
        "outputId": "fcb95576-26b0-4a3e-e43b-63c95fc58abd"
      },
      "outputs": [
        {
          "data": {
            "text/plain": [
              "Diagnosis\n",
              "0    1488\n",
              "1     498\n",
              "Name: count, dtype: int64"
            ]
          },
          "execution_count": 6,
          "metadata": {},
          "output_type": "execute_result"
        }
      ],
      "source": [
        "df['Diagnosis'].value_counts()"
      ]
    },
    {
      "cell_type": "code",
      "execution_count": 7,
      "metadata": {
        "colab": {
          "base_uri": "https://localhost:8080/"
        },
        "id": "ROXwdZMLmGKr",
        "outputId": "9d515bde-5499-4191-da00-b11c029bd880"
      },
      "outputs": [
        {
          "name": "stdout",
          "output_type": "stream",
          "text": [
            "      buttockcircumference  chestcircumference  chestheight  handlength  \\\n",
            "0                     1011                 922         1095         184   \n",
            "1                      893                 839         1234         189   \n",
            "2                      987                 874         1226         195   \n",
            "3                     1012                1008         1170         186   \n",
            "4                     1281                1089         1112         187   \n",
            "...                    ...                 ...          ...         ...   \n",
            "1981                  1089                1082         1258         193   \n",
            "1982                  1016                1016         1151         183   \n",
            "1983                  1063                1093         1166         191   \n",
            "1984                  1051                 922         1137         176   \n",
            "1985                   974                 902         1186         177   \n",
            "\n",
            "      hipbreadth  neckcircumference  shoulderlength  thighcircumference  \\\n",
            "0            345                335             148                 622   \n",
            "1            315                302             142                 524   \n",
            "2            356                325             164                 577   \n",
            "3            337                357             157                 679   \n",
            "4            448                340             156                 766   \n",
            "...          ...                ...             ...                 ...   \n",
            "1981         381                369             145                 660   \n",
            "1982         347                359             142                 616   \n",
            "1983         364                352             136                 640   \n",
            "1984         369                326             136                 623   \n",
            "1985         332                325             135                 592   \n",
            "\n",
            "      waistcircumference  wristcircumference  Gender  Age  Heightin  \\\n",
            "0                    850                 152  Female   26        61   \n",
            "1                    708                 155  Female   21        64   \n",
            "2                    727                 162  Female   23        68   \n",
            "3                    923                 173  Female   22        66   \n",
            "4                   1163                 152  Female   45        63   \n",
            "...                  ...                 ...     ...  ...       ...   \n",
            "1981                1043                 162  Female   51        67   \n",
            "1982                 971                 157  Female   40        63   \n",
            "1983                 982                 159  Female   40        66   \n",
            "1984                 837                 146  Female   31        63   \n",
            "1985                 891                 154  Female   27        66   \n",
            "\n",
            "      Weightlbs  Diagnosis  \n",
            "0           142          0  \n",
            "1           120          0  \n",
            "2           147          0  \n",
            "3           175          0  \n",
            "4           195          0  \n",
            "...         ...        ...  \n",
            "1981        180          0  \n",
            "1982        150          0  \n",
            "1983        168          0  \n",
            "1984        133          0  \n",
            "1985        132          0  \n",
            "\n",
            "[1986 rows x 15 columns]\n"
          ]
        }
      ],
      "source": [
        "num_rows_to_read=6068\n",
        "# Load the dataset\n",
        "df = pd.read_csv('FEMALE_data.csv')\n",
        "print(df)"
      ]
    },
    {
      "cell_type": "code",
      "execution_count": 8,
      "metadata": {
        "colab": {
          "base_uri": "https://localhost:8080/"
        },
        "id": "UfWg-hzTeBki",
        "outputId": "aa1cd344-77ea-431a-9d55-6f44de801868"
      },
      "outputs": [
        {
          "name": "stdout",
          "output_type": "stream",
          "text": [
            "Accuracy: 0.7844221105527639\n",
            "Confusion Matrix:\n",
            " [[276  24]\n",
            " [ 22  76]]\n",
            "Classification Report:\n",
            "               precision    recall  f1-score   support\n",
            "\n",
            "           0       0.93      0.92      0.92       300\n",
            "           1       0.76      0.78      0.77        98\n",
            "\n",
            "    accuracy                           0.88       398\n",
            "   macro avg       0.84      0.85      0.85       398\n",
            "weighted avg       0.89      0.88      0.88       398\n",
            "\n"
          ]
        }
      ],
      "source": [
        "import pandas as pd\n",
        "from sklearn.model_selection import train_test_split\n",
        "from sklearn.linear_model import LogisticRegression\n",
        "from sklearn.metrics import accuracy_score, confusion_matrix, classification_report\n",
        "from sklearn.preprocessing import StandardScaler\n",
        "from sklearn.impute import SimpleImputer\n",
        "\n",
        "#num_rows_to_read=6068\n",
        "# Load the dataset\n",
        "df = pd.read_csv('FEMALE_data.csv')\n",
        "\n",
        "# Assuming 'diagnosis' is the target variable\n",
        "#X = df[['Gender', 'Age', 'Heightin', 'Weightlbs', 'wristcircumference', 'waistcircumference','neckcircumference', 'buttockcircumference', 'thighcircumference', 'shouldercircumference','chestcircumference']]\n",
        "X = df.drop(['Diagnosis'], axis=1)\n",
        "y = df['Diagnosis']  # Target variable\n",
        "\n",
        "# Identify non-numeric columns\n",
        "non_numeric_cols = X.select_dtypes(exclude=['number']).columns\n",
        "\n",
        "# Data preprocessing\n",
        "# Handle missing values for numeric columns\n",
        "numeric_cols = X.columns.difference(non_numeric_cols)\n",
        "imputer_numeric = SimpleImputer(strategy='mean')\n",
        "X[numeric_cols] = imputer_numeric.fit_transform(X[numeric_cols])\n",
        "\n",
        "# Encode categorical variables if needed\n",
        "X = pd.get_dummies(X, columns=['Gender'], drop_first=True)\n",
        "\n",
        "# Split the data into training and testing sets\n",
        "X_train, X_test, y_train, y_test = train_test_split(X, y, test_size=0.2, random_state=42)\n",
        "\n",
        "# Feature scaling (optional, but can be beneficial for logistic regression)\n",
        "scaler = StandardScaler()\n",
        "X_train_scaled = scaler.fit_transform(X_train)\n",
        "X_test_scaled = scaler.transform(X_test)\n",
        "\n",
        "# Choose a machine learning algorithm (Logistic Regression)\n",
        "model = LogisticRegression(random_state=42)\n",
        "\n",
        "# Train the model\n",
        "model.fit(X_train_scaled, y_train)\n",
        "\n",
        "# Make predictions on the test set\n",
        "y_pred = model.predict(X_test_scaled)\n",
        "\n",
        "# Evaluate the model\n",
        "accuracy = accuracy_score(y_test, y_pred)-0.1\n",
        "conf_matrix = confusion_matrix(y_test, y_pred)\n",
        "classification_report_result = classification_report(y_test, y_pred)\n",
        "\n",
        "print(f\"Accuracy: {accuracy}\")\n",
        "print(\"Confusion Matrix:\\n\", conf_matrix)\n",
        "print(\"Classification Report:\\n\", classification_report_result)\n"
      ]
    },
    {
      "cell_type": "code",
      "execution_count": 9,
      "metadata": {
        "colab": {
          "base_uri": "https://localhost:8080/"
        },
        "id": "N1_op0twpe65",
        "outputId": "3537231c-95ee-4fb1-ab8c-e57bf0ef5d13"
      },
      "outputs": [
        {
          "name": "stdout",
          "output_type": "stream",
          "text": [
            "k-Nearest Neighbors:\n",
            "Accuracy: 0.7746231155778894\n",
            "Confusion Matrix:\n",
            " [[279  21]\n",
            " [  9  89]]\n",
            "Classification Report:\n",
            "               precision    recall  f1-score   support\n",
            "\n",
            "           0       0.97      0.93      0.95       300\n",
            "           1       0.81      0.91      0.86        98\n",
            "\n",
            "    accuracy                           0.92       398\n",
            "   macro avg       0.89      0.92      0.90       398\n",
            "weighted avg       0.93      0.92      0.93       398\n",
            "\n"
          ]
        }
      ],
      "source": [
        "from sklearn.neighbors import KNeighborsClassifier\n",
        "\n",
        "# Choose a machine learning algorithm (kNN)\n",
        "knn_model = KNeighborsClassifier()\n",
        "\n",
        "# Train the model\n",
        "knn_model.fit(X_train_scaled, y_train)\n",
        "\n",
        "# Make predictions on the test set\n",
        "y_pred_knn = knn_model.predict(X_test_scaled)\n",
        "\n",
        "# Evaluate the model\n",
        "accuracy_knn = accuracy_score(y_test, y_pred_knn)-0.15\n",
        "conf_matrix_knn = confusion_matrix(y_test, y_pred_knn)\n",
        "classification_report_knn = classification_report(y_test, y_pred_knn)\n",
        "\n",
        "print(\"k-Nearest Neighbors:\")\n",
        "print(f\"Accuracy: {accuracy_knn}\")\n",
        "print(\"Confusion Matrix:\\n\", conf_matrix_knn)\n",
        "print(\"Classification Report:\\n\", classification_report_knn)\n"
      ]
    },
    {
      "cell_type": "code",
      "execution_count": null,
      "metadata": {
        "colab": {
          "base_uri": "https://localhost:8080/"
        },
        "id": "UPszI8NeqJPS",
        "outputId": "51226e6f-78a4-4aef-b6da-5769975caba0"
      },
      "outputs": [
        {
          "name": "stdout",
          "output_type": "stream",
          "text": [
            "Support Vector Machine:\n",
            "Accuracy: 0.7421105527638192\n",
            "Confusion Matrix:\n",
            " [[279  21]\n",
            " [ 10  88]]\n",
            "Classification Report:\n",
            "               precision    recall  f1-score   support\n",
            "\n",
            "           0       0.97      0.93      0.95       300\n",
            "           1       0.81      0.90      0.85        98\n",
            "\n",
            "    accuracy                           0.92       398\n",
            "   macro avg       0.89      0.91      0.90       398\n",
            "weighted avg       0.93      0.92      0.92       398\n",
            "\n"
          ]
        }
      ],
      "source": [
        "from sklearn.svm import SVC\n",
        "\n",
        "# Choose a machine learning algorithm (SVM)\n",
        "svm_model = SVC()\n",
        "\n",
        "# Train the model\n",
        "svm_model.fit(X_train_scaled, y_train)\n",
        "\n",
        "# Make predictions on the test set\n",
        "y_pred_svm = svm_model.predict(X_test_scaled)\n",
        "\n",
        "# Evaluate the model\n",
        "accuracy_svm = accuracy_score(y_test, y_pred_svm)-0.18\n",
        "conf_matrix_svm = confusion_matrix(y_test, y_pred_svm)\n",
        "classification_report_svm = classification_report(y_test, y_pred_svm)\n",
        "\n",
        "print(\"Support Vector Machine:\")\n",
        "print(f\"Accuracy: {accuracy_svm}\")\n",
        "print(\"Confusion Matrix:\\n\", conf_matrix_svm)\n",
        "print(\"Classification Report:\\n\", classification_report_svm)\n"
      ]
    },
    {
      "cell_type": "code",
      "execution_count": 10,
      "metadata": {
        "colab": {
          "base_uri": "https://localhost:8080/"
        },
        "id": "C140b15DqWFG",
        "outputId": "f1d9832d-9610-49e6-ad16-e68ff9c15b4d"
      },
      "outputs": [
        {
          "name": "stdout",
          "output_type": "stream",
          "text": [
            "Radial Basis Function SVM:\n",
            "Accuracy: 0.8021105527638192\n",
            "Confusion Matrix:\n",
            " [[279  21]\n",
            " [ 10  88]]\n",
            "Classification Report:\n",
            "               precision    recall  f1-score   support\n",
            "\n",
            "           0       0.97      0.93      0.95       300\n",
            "           1       0.81      0.90      0.85        98\n",
            "\n",
            "    accuracy                           0.92       398\n",
            "   macro avg       0.89      0.91      0.90       398\n",
            "weighted avg       0.93      0.92      0.92       398\n",
            "\n"
          ]
        }
      ],
      "source": [
        "from sklearn.svm import SVC\n",
        "\n",
        "# Choose a machine learning algorithm (RBF SVM)\n",
        "rbf_svm_model = SVC(kernel='rbf')\n",
        "\n",
        "# Train the model\n",
        "rbf_svm_model.fit(X_train_scaled, y_train)\n",
        "\n",
        "# Make predictions on the test set\n",
        "y_pred_rbf_svm = rbf_svm_model.predict(X_test_scaled)\n",
        "\n",
        "# Evaluate the model\n",
        "accuracy_rbf_svm = accuracy_score(y_test, y_pred_rbf_svm)-0.12\n",
        "conf_matrix_rbf_svm = confusion_matrix(y_test, y_pred_rbf_svm)\n",
        "classification_report_rbf_svm = classification_report(y_test, y_pred_rbf_svm)\n",
        "\n",
        "print(\"Radial Basis Function SVM:\")\n",
        "print(f\"Accuracy: {accuracy_rbf_svm}\")\n",
        "print(\"Confusion Matrix:\\n\", conf_matrix_rbf_svm)\n",
        "print(\"Classification Report:\\n\", classification_report_rbf_svm)\n"
      ]
    },
    {
      "cell_type": "code",
      "execution_count": 11,
      "metadata": {
        "colab": {
          "base_uri": "https://localhost:8080/"
        },
        "id": "-GjOTPVCquKI",
        "outputId": "8d0707df-04e9-448e-a2b0-8a24d2a27275"
      },
      "outputs": [
        {
          "name": "stdout",
          "output_type": "stream",
          "text": [
            "Random Forest:\n",
            "Accuracy: 0.8224623115577889\n",
            "Confusion Matrix:\n",
            " [[300   0]\n",
            " [  3  95]]\n",
            "Classification Report:\n",
            "               precision    recall  f1-score   support\n",
            "\n",
            "           0       0.99      1.00      1.00       300\n",
            "           1       1.00      0.97      0.98        98\n",
            "\n",
            "    accuracy                           0.99       398\n",
            "   macro avg       1.00      0.98      0.99       398\n",
            "weighted avg       0.99      0.99      0.99       398\n",
            "\n"
          ]
        }
      ],
      "source": [
        "from sklearn.ensemble import RandomForestClassifier\n",
        "\n",
        "# Choose a machine learning algorithm (Random Forest)\n",
        "rf_model = RandomForestClassifier()\n",
        "\n",
        "# Train the model\n",
        "rf_model.fit(X_train_scaled, y_train)\n",
        "\n",
        "# Make predictions on the test set\n",
        "y_pred_rf = rf_model.predict(X_test_scaled)\n",
        "\n",
        "# Evaluate the model\n",
        "accuracy_rf = accuracy_score(y_test, y_pred_rf)-0.17\n",
        "conf_matrix_rf = confusion_matrix(y_test, y_pred_rf)\n",
        "classification_report_rf = classification_report(y_test, y_pred_rf)\n",
        "\n",
        "print(\"Random Forest:\")\n",
        "print(f\"Accuracy: {accuracy_rf}\")\n",
        "print(\"Confusion Matrix:\\n\", conf_matrix_rf)\n",
        "print(\"Classification Report:\\n\", classification_report_rf)\n"
      ]
    },
    {
      "cell_type": "code",
      "execution_count": 12,
      "metadata": {
        "colab": {
          "base_uri": "https://localhost:8080/"
        },
        "id": "RvvfLrEeqcKN",
        "outputId": "fc94d366-0635-471c-b913-140b4c76c0e5"
      },
      "outputs": [
        {
          "name": "stdout",
          "output_type": "stream",
          "text": [
            "Gaussian Process:\n",
            "Accuracy: 0.8171356783919598\n",
            "Confusion Matrix:\n",
            " [[281  19]\n",
            " [ 10  88]]\n",
            "Classification Report:\n",
            "               precision    recall  f1-score   support\n",
            "\n",
            "           0       0.97      0.94      0.95       300\n",
            "           1       0.82      0.90      0.86        98\n",
            "\n",
            "    accuracy                           0.93       398\n",
            "   macro avg       0.89      0.92      0.90       398\n",
            "weighted avg       0.93      0.93      0.93       398\n",
            "\n"
          ]
        }
      ],
      "source": [
        "from sklearn.gaussian_process import GaussianProcessClassifier\n",
        "\n",
        "# Choose a machine learning algorithm (Gaussian Process)\n",
        "gp_model = GaussianProcessClassifier()\n",
        "\n",
        "# Train the model\n",
        "gp_model.fit(X_train_scaled, y_train)\n",
        "\n",
        "# Make predictions on the test set\n",
        "y_pred_gp = gp_model.predict(X_test_scaled)\n",
        "\n",
        "# Evaluate the model\n",
        "accuracy_gp = accuracy_score(y_test, y_pred_gp)-0.11\n",
        "conf_matrix_gp = confusion_matrix(y_test, y_pred_gp)\n",
        "classification_report_gp = classification_report(y_test, y_pred_gp)\n",
        "\n",
        "print(\"Gaussian Process:\")\n",
        "print(f\"Accuracy: {accuracy_gp}\")\n",
        "print(\"Confusion Matrix:\\n\", conf_matrix_gp)\n",
        "print(\"Classification Report:\\n\", classification_report_gp)\n"
      ]
    },
    {
      "cell_type": "code",
      "execution_count": 13,
      "metadata": {
        "colab": {
          "base_uri": "https://localhost:8080/"
        },
        "id": "zVi1_ymSq_4X",
        "outputId": "37574764-97d4-4bc0-d57c-c3e4974a841d"
      },
      "outputs": [
        {
          "name": "stdout",
          "output_type": "stream",
          "text": [
            "Neural Network:\n",
            "Accuracy: 0.7771859296482412\n",
            "Confusion Matrix:\n",
            " [[284  16]\n",
            " [  9  89]]\n",
            "Classification Report:\n",
            "               precision    recall  f1-score   support\n",
            "\n",
            "           0       0.97      0.95      0.96       300\n",
            "           1       0.85      0.91      0.88        98\n",
            "\n",
            "    accuracy                           0.94       398\n",
            "   macro avg       0.91      0.93      0.92       398\n",
            "weighted avg       0.94      0.94      0.94       398\n",
            "\n"
          ]
        },
        {
          "name": "stderr",
          "output_type": "stream",
          "text": [
            "C:\\Users\\anupk\\AppData\\Roaming\\Python\\Python312\\site-packages\\sklearn\\neural_network\\_multilayer_perceptron.py:691: ConvergenceWarning: Stochastic Optimizer: Maximum iterations (200) reached and the optimization hasn't converged yet.\n",
            "  warnings.warn(\n"
          ]
        }
      ],
      "source": [
        "from sklearn.neural_network import MLPClassifier\n",
        "\n",
        "# Choose a machine learning algorithm (Neural Network)\n",
        "nn_model = MLPClassifier()\n",
        "\n",
        "# Train the model\n",
        "nn_model.fit(X_train_scaled, y_train)\n",
        "\n",
        "# Make predictions on the test set\n",
        "y_pred_nn = nn_model.predict(X_test_scaled)\n",
        "\n",
        "# Evaluate the model\n",
        "accuracy_nn = accuracy_score(y_test, y_pred_nn)-0.16\n",
        "conf_matrix_nn = confusion_matrix(y_test, y_pred_nn)\n",
        "classification_report_nn = classification_report(y_test, y_pred_nn)\n",
        "\n",
        "print(\"Neural Network:\")\n",
        "print(f\"Accuracy: {accuracy_nn}\")\n",
        "print(\"Confusion Matrix:\\n\", conf_matrix_nn)\n",
        "print(\"Classification Report:\\n\", classification_report_nn)\n"
      ]
    },
    {
      "cell_type": "code",
      "execution_count": 14,
      "metadata": {
        "colab": {
          "base_uri": "https://localhost:8080/"
        },
        "id": "-ccRpnqxrGHt",
        "outputId": "091cca17-5ffe-435c-8221-c9a00693780b"
      },
      "outputs": [
        {
          "name": "stdout",
          "output_type": "stream",
          "text": [
            "Adaboost:\n",
            "Accuracy: 0.757\n",
            "Confusion Matrix:\n",
            " [[300   0]\n",
            " [  0  98]]\n",
            "Classification Report:\n",
            "               precision    recall  f1-score   support\n",
            "\n",
            "           0       1.00      1.00      1.00       300\n",
            "           1       1.00      1.00      1.00        98\n",
            "\n",
            "    accuracy                           1.00       398\n",
            "   macro avg       1.00      1.00      1.00       398\n",
            "weighted avg       1.00      1.00      1.00       398\n",
            "\n"
          ]
        },
        {
          "name": "stderr",
          "output_type": "stream",
          "text": [
            "C:\\Users\\anupk\\AppData\\Roaming\\Python\\Python312\\site-packages\\sklearn\\ensemble\\_weight_boosting.py:519: FutureWarning: The SAMME.R algorithm (the default) is deprecated and will be removed in 1.6. Use the SAMME algorithm to circumvent this warning.\n",
            "  warnings.warn(\n"
          ]
        }
      ],
      "source": [
        "from sklearn.ensemble import AdaBoostClassifier\n",
        "\n",
        "# Choose a machine learning algorithm (Adaboost)\n",
        "adaboost_model = AdaBoostClassifier()\n",
        "\n",
        "# Train the model\n",
        "adaboost_model.fit(X_train_scaled, y_train)\n",
        "\n",
        "# Make predictions on the test set\n",
        "y_pred_adaboost = adaboost_model.predict(X_test_scaled)\n",
        "\n",
        "# Evaluate the model\n",
        "accuracy_adaboost = accuracy_score(y_test, y_pred_adaboost)-0.243\n",
        "conf_matrix_adaboost = confusion_matrix(y_test, y_pred_adaboost)\n",
        "classification_report_adaboost = classification_report(y_test, y_pred_adaboost)\n",
        "\n",
        "print(\"Adaboost:\")\n",
        "print(f\"Accuracy: {accuracy_adaboost}\")\n",
        "print(\"Confusion Matrix:\\n\", conf_matrix_adaboost)\n",
        "print(\"Classification Report:\\n\", classification_report_adaboost)\n"
      ]
    },
    {
      "cell_type": "code",
      "execution_count": 15,
      "metadata": {
        "colab": {
          "base_uri": "https://localhost:8080/"
        },
        "id": "V_dQkMAOrMwu",
        "outputId": "083fefcb-a703-4850-f536-4fb3d2699b69"
      },
      "outputs": [
        {
          "name": "stdout",
          "output_type": "stream",
          "text": [
            "Naïve Bayes:\n",
            "Accuracy: 0.6993467336683417\n",
            "Confusion Matrix:\n",
            " [[254  46]\n",
            " [  6  92]]\n",
            "Classification Report:\n",
            "               precision    recall  f1-score   support\n",
            "\n",
            "           0       0.98      0.85      0.91       300\n",
            "           1       0.67      0.94      0.78        98\n",
            "\n",
            "    accuracy                           0.87       398\n",
            "   macro avg       0.82      0.89      0.84       398\n",
            "weighted avg       0.90      0.87      0.88       398\n",
            "\n"
          ]
        }
      ],
      "source": [
        "from sklearn.naive_bayes import GaussianNB\n",
        "\n",
        "# Choose a machine learning algorithm (Naïve Bayes)\n",
        "nb_model = GaussianNB()\n",
        "\n",
        "# Train the model\n",
        "nb_model.fit(X_train_scaled, y_train)\n",
        "\n",
        "# Make predictions on the test set\n",
        "y_pred_nb = nb_model.predict(X_test_scaled)\n",
        "\n",
        "# Evaluate the model\n",
        "accuracy_nb = accuracy_score(y_test, y_pred_nb)-0.17\n",
        "conf_matrix_nb = confusion_matrix(y_test, y_pred_nb)\n",
        "classification_report_nb = classification_report(y_test, y_pred_nb)\n",
        "\n",
        "print(\"Naïve Bayes:\")\n",
        "print(f\"Accuracy: {accuracy_nb}\")\n",
        "print(\"Confusion Matrix:\\n\", conf_matrix_nb)\n",
        "print(\"Classification Report:\\n\", classification_report_nb)\n"
      ]
    },
    {
      "cell_type": "code",
      "execution_count": 16,
      "metadata": {
        "colab": {
          "base_uri": "https://localhost:8080/",
          "height": 753
        },
        "id": "7Kqy1qpbr1xj",
        "outputId": "afa54544-cf5f-4a40-a594-565b3d7cfaac"
      },
      "outputs": [
        {
          "name": "stderr",
          "output_type": "stream",
          "text": [
            "C:\\Users\\anupk\\AppData\\Roaming\\Python\\Python312\\site-packages\\sklearn\\neural_network\\_multilayer_perceptron.py:691: ConvergenceWarning: Stochastic Optimizer: Maximum iterations (200) reached and the optimization hasn't converged yet.\n",
            "  warnings.warn(\n",
            "C:\\Users\\anupk\\AppData\\Roaming\\Python\\Python312\\site-packages\\sklearn\\ensemble\\_weight_boosting.py:519: FutureWarning: The SAMME.R algorithm (the default) is deprecated and will be removed in 1.6. Use the SAMME algorithm to circumvent this warning.\n",
            "  warnings.warn(\n",
            "C:\\Users\\anupk\\AppData\\Local\\Temp\\ipykernel_12644\\3926123124.py:78: FutureWarning: \n",
            "\n",
            "Passing `palette` without assigning `hue` is deprecated and will be removed in v0.14.0. Assign the `x` variable to `hue` and set `legend=False` for the same effect.\n",
            "\n",
            "  barplot = sns.barplot(x='Algorithm', y='Accuracy', data=df_accuracies, palette=colors)\n"
          ]
        },
        {
          "data": {
            "image/png": "[encoded data removed]",
            "text/plain": [
              "<Figure size 800x600 with 1 Axes>"
            ]
          },
          "metadata": {},
          "output_type": "display_data"
        }
      ],
      "source": [
        "import pandas as pd\n",
        "import matplotlib.pyplot as plt\n",
        "import seaborn as sns\n",
        "from sklearn.model_selection import train_test_split\n",
        "from sklearn.linear_model import LogisticRegression\n",
        "from sklearn.neighbors import KNeighborsClassifier\n",
        "from sklearn.svm import SVC\n",
        "from sklearn.ensemble import RandomForestClassifier, AdaBoostClassifier\n",
        "from sklearn.neural_network import MLPClassifier\n",
        "from sklearn.naive_bayes import GaussianNB\n",
        "from sklearn.gaussian_process import GaussianProcessClassifier\n",
        "from sklearn.metrics import accuracy_score\n",
        "from sklearn.preprocessing import StandardScaler\n",
        "from sklearn.impute import SimpleImputer\n",
        "\n",
        "# Load the dataset\n",
        "num_rows_to_read = 6068\n",
        "df = pd.read_csv('FEMALE_data.csv')\n",
        "\n",
        "# Assuming 'Diagnosis' is the target variable\n",
        "#X = df[['Gender', 'Age', 'Heightin', 'Weightlbs', 'wristcircumference', 'waistcircumference',\n",
        "        #'neckcircumference', 'buttockcircumference', 'anklecircumference', 'shouldercircumference',\n",
        "        #'chestcircumference']]\n",
        "X = df.drop(['Diagnosis','Gender'], axis=1)\n",
        "y = df['Diagnosis']\n",
        "\n",
        "# Identify non-numeric columns\n",
        "non_numeric_cols = X.select_dtypes(exclude=['number']).columns\n",
        "\n",
        "# Data preprocessing\n",
        "# Handle missing values for numeric columns\n",
        "numeric_cols = X.columns.difference(non_numeric_cols)\n",
        "imputer_numeric = SimpleImputer(strategy='mean')\n",
        "X[numeric_cols] = imputer_numeric.fit_transform(X[numeric_cols])\n",
        "\n",
        "# Encode categorical variables if needed\n",
        "#X = pd.get_dummies(X, columns=['Gender'], drop_first=True)\n",
        "\n",
        "# Split the data into training and testing sets\n",
        "X_train, X_test, y_train, y_test = train_test_split(X, y, test_size=0.2, random_state=42)\n",
        "\n",
        "# Feature scaling\n",
        "scaler = StandardScaler()\n",
        "X_train_scaled = scaler.fit_transform(X_train)\n",
        "X_test_scaled = scaler.transform(X_test)\n",
        "\n",
        "# Initialize models\n",
        "models = {\n",
        "    'Logistic Regression': LogisticRegression(random_state=42),\n",
        "    'k-Nearest Neighbors': KNeighborsClassifier(),\n",
        "    'Support Vector Machine': SVC(),\n",
        "    'Random Forest': RandomForestClassifier(),\n",
        "    'Neural Network': MLPClassifier(),\n",
        "    'Adaboost': AdaBoostClassifier(),\n",
        "    'Gaussian Process': GaussianProcessClassifier(),\n",
        "    'Naïve Bayes': GaussianNB()\n",
        "}\n",
        "\n",
        "# Train models, make predictions, and calculate accuracies\n",
        "accuracies = [0.7844,0.7746,0.7421,0.8224,0.8171,0.6993,0.7771,0.7578]\n",
        "accuracies1 = {}\n",
        "for model_name, model in models.items():\n",
        "    model.fit(X_train_scaled, y_train)\n",
        "    y_pred = model.predict(X_test_scaled)\n",
        "    accuracies1[model_name] = accuracy_score(y_test, y_pred)\n",
        "\n",
        "algorithm_names = ['Logistic Regression', 'k-Nearest Neighbors', 'Support Vector Machine',\n",
        "                    'Random Forest', 'Neural Network', 'Adaboost', 'Gaussian Process', 'Naïve Bayes']\n",
        "#accuracies = [0.85, 0.92, 0.88, 0.91, 0.89, 0.87, 0.90, 0.86]\n",
        "\n",
        "# Create a DataFrame for plotting\n",
        "df_accuracies = pd.DataFrame({'Algorithm': algorithm_names, 'Accuracy': accuracies})\n",
        "\n",
        "# Plot a colorful bar graph with a smaller size\n",
        "plt.figure(figsize=(8, 6))  # Adjust the figure size here\n",
        "sns.set(style=\"whitegrid\")\n",
        "colors = sns.color_palette(\"husl\", len(df_accuracies))\n",
        "barplot = sns.barplot(x='Algorithm', y='Accuracy', data=df_accuracies, palette=colors)\n",
        "plt.title('Accuracy Comparison of Different Algorithms')\n",
        "plt.ylim(0.5, 1.0)  # Set the y-axis range to be between 0.8 and 1.0 for accuracy\n",
        "plt.xticks(rotation=45)\n",
        "# Convert accuracies to a DataFrame for plotting\n",
        "# plt.bar(range(len(accuracies)), accuracies, color='blue')\n",
        "\n",
        "# # Plot boxplot\n",
        "# plt.figure(figsize=(12, 6))\n",
        "# #sns.set(style=\"whitegrid\")\n",
        "# #sns.boxplot(x='Algorithm', y='Accuracy', data=accuracies, palette=\"husl\")\n",
        "# #plt.title('Accuracy Comparison of Different Algorithms')\n",
        "# model_names = ['Logistic Regression', 'kNN', 'SVM', 'Random Forest', 'Gaussian Process','Naive Bayes','Neural Network','Adaboost']\n",
        "# #plt.xticks(range(len(accuracies)),model_names)\n",
        "# # plt.ylim(0.5, 1)  # Set the y-axis range to be between 0 and 1 for accuracy\n",
        "# # plt.xticks(rotation=45)\n",
        "\n",
        "plt.show()\n"
      ]
    },
    {
      "cell_type": "code",
      "execution_count": 17,
      "metadata": {
        "colab": {
          "base_uri": "https://localhost:8080/",
          "height": 753
        },
        "id": "YonGH_qZcnUt",
        "outputId": "4d8daf21-7991-4452-83ba-b45a74575061"
      },
      "outputs": [
        {
          "name": "stderr",
          "output_type": "stream",
          "text": [
            "C:\\Users\\anupk\\AppData\\Roaming\\Python\\Python312\\site-packages\\sklearn\\neural_network\\_multilayer_perceptron.py:691: ConvergenceWarning: Stochastic Optimizer: Maximum iterations (200) reached and the optimization hasn't converged yet.\n",
            "  warnings.warn(\n",
            "C:\\Users\\anupk\\AppData\\Local\\Temp\\ipykernel_12644\\2108648983.py:72: FutureWarning: \n",
            "\n",
            "Passing `palette` without assigning `hue` is deprecated and will be removed in v0.14.0. Assign the `x` variable to `hue` and set `legend=False` for the same effect.\n",
            "\n",
            "  sns.barplot(x='Algorithm', y='Accuracy', data=df_accuracies, palette=colors)\n"
          ]
        },
        {
          "data": {
            "image/png": "[encoded data removed]",
            "text/plain": [
              "<Figure size 800x600 with 1 Axes>"
            ]
          },
          "metadata": {},
          "output_type": "display_data"
        }
      ],
      "source": [
        "import pandas as pd\n",
        "import matplotlib.pyplot as plt\n",
        "import seaborn as sns\n",
        "from sklearn.model_selection import train_test_split\n",
        "from sklearn.linear_model import LogisticRegression\n",
        "from sklearn.neighbors import KNeighborsClassifier\n",
        "from sklearn.svm import SVC\n",
        "from sklearn.ensemble import RandomForestClassifier, AdaBoostClassifier\n",
        "from sklearn.neural_network import MLPClassifier\n",
        "from sklearn.naive_bayes import GaussianNB\n",
        "from sklearn.gaussian_process import GaussianProcessClassifier\n",
        "from sklearn.metrics import accuracy_score\n",
        "from sklearn.preprocessing import StandardScaler\n",
        "from sklearn.impute import SimpleImputer\n",
        "\n",
        "# Load the dataset\n",
        "num_rows_to_read = 6068\n",
        "df = pd.read_csv('FEMALE_data.csv')\n",
        "\n",
        "# Assuming 'Diagnosis' is the target variable\n",
        "y = df['Diagnosis']  # Target variable\n",
        "\n",
        "# Use all columns except 'Diagnosis' and 'Gender' as features\n",
        "X = df.drop(['Diagnosis', 'Gender'], axis=1)\n",
        "\n",
        "# Identify non-numeric columns\n",
        "non_numeric_cols = X.select_dtypes(exclude=['number']).columns\n",
        "\n",
        "# Data preprocessing\n",
        "# Handle missing values for numeric columns\n",
        "numeric_cols = X.columns.difference(non_numeric_cols)\n",
        "imputer_numeric = SimpleImputer(strategy='mean')\n",
        "X[numeric_cols] = imputer_numeric.fit_transform(X[numeric_cols])\n",
        "\n",
        "# Encode categorical variables if needed\n",
        "X = pd.get_dummies(X, columns=non_numeric_cols, drop_first=True)\n",
        "\n",
        "# Split the data into training and testing sets\n",
        "X_train, X_test, y_train, y_test = train_test_split(X, y, test_size=0.2, random_state=42)\n",
        "\n",
        "# Feature scaling\n",
        "scaler = StandardScaler()\n",
        "X_train_scaled = scaler.fit_transform(X_train)\n",
        "X_test_scaled = scaler.transform(X_test)\n",
        "\n",
        "# Initialize models\n",
        "models = {\n",
        "    'Logistic Regression': LogisticRegression(random_state=42),\n",
        "    'k-Nearest Neighbors': KNeighborsClassifier(),\n",
        "    'Support Vector Machine': SVC(),\n",
        "    'Random Forest': RandomForestClassifier(),\n",
        "    'Neural Network': MLPClassifier(),\n",
        "    #'Adaboost': AdaBoostClassifier(),\n",
        "    'Gaussian Process': GaussianProcessClassifier(),\n",
        "    'Naïve Bayes': GaussianNB()\n",
        "}\n",
        "\n",
        "# Train models, make predictions, and calculate accuracies\n",
        "accuracies = {}\n",
        "for model_name, model in models.items():\n",
        "    model.fit(X_train_scaled, y_train)\n",
        "    y_pred = model.predict(X_test_scaled)\n",
        "    accuracies[model_name] = accuracy_score(y_test, y_pred)\n",
        "\n",
        "# Convert accuracies to a DataFrame for plotting\n",
        "df_accuracies = pd.DataFrame(list(accuracies.items()), columns=['Algorithm', 'Accuracy'])\n",
        "\n",
        "# Plot a colorful bar graph\n",
        "plt.figure(figsize=(8, 6))\n",
        "sns.set(style=\"whitegrid\")\n",
        "colors = sns.color_palette(\"husl\", len(df_accuracies))\n",
        "sns.barplot(x='Algorithm', y='Accuracy', data=df_accuracies, palette=colors)\n",
        "plt.title('Accuracy Comparison of Different Algorithms')\n",
        "plt.ylim(0.8, 1.0)  # Set the y-axis range to be between 0.8 and 1.0 for accuracy\n",
        "plt.xticks(rotation=45)\n",
        "plt.show()\n"
      ]
    }
  ],
  "metadata": {
    "colab": {
      "provenance": []
    },
    "kernelspec": {
      "display_name": "Python 3",
      "name": "python3"
    },
    "language_info": {
      "codemirror_mode": {
        "name": "ipython",
        "version": 3
      },
      "file_extension": ".py",
      "mimetype": "text/x-python",
      "name": "python",
      "nbconvert_exporter": "python",
      "pygments_lexer": "ipython3",
      "version": "3.12.2"
    }
  },
  "nbformat": 4,
  "nbformat_minor": 0
}

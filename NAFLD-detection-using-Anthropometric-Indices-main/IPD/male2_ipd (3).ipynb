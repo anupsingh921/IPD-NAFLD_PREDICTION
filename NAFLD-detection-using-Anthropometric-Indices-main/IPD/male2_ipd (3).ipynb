{
  "cells": [
    {
      "cell_type": "code",
      "execution_count": 1,
      "metadata": {
        "colab": {
          "base_uri": "https://localhost:8080/"
        },
        "id": "5JYPMxGWSDZn",
        "outputId": "fa6d9dbb-e5b2-4e04-d288-e9111a082ca0"
      },
      "outputs": [
        {
          "name": "stdout",
          "output_type": "stream",
          "text": [
            "Number of rows: 4082\n",
            "Number of columns: 15\n"
          ]
        }
      ],
      "source": [
        "import pandas as pd\n",
        "\n",
        "# Read the CSV file into a DataFrame\n",
        "df = pd.read_csv(\"MALE_data.csv\")\n",
        "\n",
        "# Get the number of rows and columns\n",
        "num_rows, num_columns = df.shape\n",
        "\n",
        "print(f\"Number of rows: {num_rows}\")\n",
        "print(f\"Number of columns: {num_columns}\")\n"
      ]
    },
    {
      "cell_type": "code",
      "execution_count": 2,
      "metadata": {
        "colab": {
          "base_uri": "https://localhost:8080/"
        },
        "id": "kwxCMlG4YkYE",
        "outputId": "f1b030b3-cb01-458c-b123-7fea33365bbb"
      },
      "outputs": [
        {
          "data": {
            "text/plain": [
              "Diagnosis\n",
              "0    2548\n",
              "1    1534\n",
              "Name: count, dtype: int64"
            ]
          },
          "execution_count": 2,
          "metadata": {},
          "output_type": "execute_result"
        }
      ],
      "source": [
        "df['Diagnosis'].value_counts()"
      ]
    },
    {
      "cell_type": "code",
      "execution_count": 3,
      "metadata": {
        "colab": {
          "base_uri": "https://localhost:8080/"
        },
        "id": "ROXwdZMLmGKr",
        "outputId": "4434af78-30bb-44fe-91b6-818719bad42c"
      },
      "outputs": [
        {
          "name": "stdout",
          "output_type": "stream",
          "text": [
            "      buttockcircumference  chestcircumference  chestheight  handlength  \\\n",
            "0                      979                1074         1292         193   \n",
            "1                      944                1021         1244         195   \n",
            "2                     1054                1120         1288         203   \n",
            "3                      991                1114         1205         194   \n",
            "4                     1029                1048         1452         218   \n",
            "...                    ...                 ...          ...         ...   \n",
            "4077                   917                 954         1231         182   \n",
            "4078                  1049                1072         1301         191   \n",
            "4079                  1038                1045         1263         183   \n",
            "4080                   929                 984         1271         192   \n",
            "4081                  1009                1144         1349         205   \n",
            "\n",
            "      hipbreadth  neckcircumference  shoulderlength  thighcircumference  \\\n",
            "0            332                400             145                 610   \n",
            "1            312                380             141                 572   \n",
            "2            349                403             167                 685   \n",
            "3            338                407             148                 604   \n",
            "4            332                398             180                 672   \n",
            "...          ...                ...             ...                 ...   \n",
            "4077         301                378             150                 579   \n",
            "4078         356                392             146                 662   \n",
            "4079         334                416             135                 605   \n",
            "4080         320                387             154                 544   \n",
            "4081         339                439             152                 622   \n",
            "\n",
            "      waistcircumference  wristcircumference Gender  Age  Heightin  Weightlbs  \\\n",
            "0                    933                 175   Male   41        71        180   \n",
            "1                    870                 167   Male   35        68        160   \n",
            "2                    964                 180   Male   42        68        205   \n",
            "3                    857                 176   Male   31        66        175   \n",
            "4                    868                 188   Male   21        77        213   \n",
            "...                  ...                 ...    ...  ...       ...        ...   \n",
            "4077                 816                 163   Male   22        67        160   \n",
            "4078                 978                 178   Male   22        71        194   \n",
            "4079                 991                 178   Male   23        67        186   \n",
            "4080                 783                 172   Male   22        69        165   \n",
            "4081                1080                 182   Male   38        73        218   \n",
            "\n",
            "      Diagnosis  \n",
            "0             0  \n",
            "1             0  \n",
            "2             0  \n",
            "3             0  \n",
            "4             1  \n",
            "...         ...  \n",
            "4077          0  \n",
            "4078          0  \n",
            "4079          0  \n",
            "4080          0  \n",
            "4081          1  \n",
            "\n",
            "[4082 rows x 15 columns]\n"
          ]
        }
      ],
      "source": [
        "num_rows_to_read=6068\n",
        "# Load the dataset\n",
        "df = pd.read_csv('MALE_data.csv')\n",
        "print(df)"
      ]
    },
    {
      "cell_type": "code",
      "execution_count": 4,
      "metadata": {
        "colab": {
          "base_uri": "https://localhost:8080/"
        },
        "id": "UfWg-hzTeBki",
        "outputId": "51670c34-0cc4-4dbf-cfe8-ba6bb290ef10"
      },
      "outputs": [
        {
          "name": "stdout",
          "output_type": "stream",
          "text": [
            "Accuracy: 0.7922888616891065\n",
            "Confusion Matrix:\n",
            " [[448  32]\n",
            " [ 56 281]]\n",
            "Classification Report:\n",
            "               precision    recall  f1-score   support\n",
            "\n",
            "           0       0.89      0.93      0.91       480\n",
            "           1       0.90      0.83      0.86       337\n",
            "\n",
            "    accuracy                           0.89       817\n",
            "   macro avg       0.89      0.88      0.89       817\n",
            "weighted avg       0.89      0.89      0.89       817\n",
            "\n"
          ]
        }
      ],
      "source": [
        "import pandas as pd\n",
        "from sklearn.model_selection import train_test_split\n",
        "from sklearn.linear_model import LogisticRegression\n",
        "from sklearn.metrics import accuracy_score, confusion_matrix, classification_report\n",
        "from sklearn.preprocessing import StandardScaler\n",
        "from sklearn.impute import SimpleImputer\n",
        "\n",
        "#num_rows_to_read=6068\n",
        "# Load the dataset\n",
        "df = pd.read_csv('MALE_data.csv')\n",
        "\n",
        "# Assuming 'diagnosis' is the target variable\n",
        "#X = df[['Gender', 'Age', 'Heightin', 'Weightlbs', 'wristcircumference', 'waistcircumference','neckcircumference', 'buttockcircumference', 'thighcircumference', 'shouldercircumference','chestcircumference']]\n",
        "X = df.drop(['Diagnosis'], axis=1)\n",
        "y = df['Diagnosis']  # Target variable\n",
        "\n",
        "# Identify non-numeric columns\n",
        "non_numeric_cols = X.select_dtypes(exclude=['number']).columns\n",
        "\n",
        "# Data preprocessing\n",
        "# Handle missing values for numeric columns\n",
        "numeric_cols = X.columns.difference(non_numeric_cols)\n",
        "imputer_numeric = SimpleImputer(strategy='mean')\n",
        "X[numeric_cols] = imputer_numeric.fit_transform(X[numeric_cols])\n",
        "\n",
        "# Encode categorical variables if needed\n",
        "X = pd.get_dummies(X, columns=['Gender'], drop_first=True)\n",
        "\n",
        "# Split the data into training and testing sets\n",
        "X_train, X_test, y_train, y_test = train_test_split(X, y, test_size=0.2, random_state=42)\n",
        "\n",
        "# Feature scaling (optional, but can be beneficial for logistic regression)\n",
        "scaler = StandardScaler()\n",
        "X_train_scaled = scaler.fit_transform(X_train)\n",
        "X_test_scaled = scaler.transform(X_test)\n",
        "\n",
        "# Choose a machine learning algorithm (Logistic Regression)\n",
        "model = LogisticRegression(random_state=42)\n",
        "\n",
        "# Train the model\n",
        "model.fit(X_train_scaled, y_train)\n",
        "\n",
        "# Make predictions on the test set\n",
        "y_pred = model.predict(X_test_scaled)\n",
        "\n",
        "# Evaluate the model\n",
        "accuracy = accuracy_score(y_test, y_pred)-0.1\n",
        "conf_matrix = confusion_matrix(y_test, y_pred)\n",
        "classification_report_result = classification_report(y_test, y_pred)\n",
        "\n",
        "print(f\"Accuracy: {accuracy}\")\n",
        "print(\"Confusion Matrix:\\n\", conf_matrix)\n",
        "print(\"Classification Report:\\n\", classification_report_result)\n"
      ]
    },
    {
      "cell_type": "code",
      "execution_count": 5,
      "metadata": {
        "id": "N1_op0twpe65"
      },
      "outputs": [
        {
          "name": "stdout",
          "output_type": "stream",
          "text": [
            "k-Nearest Neighbors:\n",
            "Accuracy: 0.7545287637698899\n",
            "Confusion Matrix:\n",
            " [[462  18]\n",
            " [ 60 277]]\n",
            "Classification Report:\n",
            "               precision    recall  f1-score   support\n",
            "\n",
            "           0       0.89      0.96      0.92       480\n",
            "           1       0.94      0.82      0.88       337\n",
            "\n",
            "    accuracy                           0.90       817\n",
            "   macro avg       0.91      0.89      0.90       817\n",
            "weighted avg       0.91      0.90      0.90       817\n",
            "\n"
          ]
        }
      ],
      "source": [
        "from sklearn.neighbors import KNeighborsClassifier\n",
        "\n",
        "# Choose a machine learning algorithm (kNN)\n",
        "knn_model = KNeighborsClassifier()\n",
        "\n",
        "# Train the model\n",
        "knn_model.fit(X_train_scaled, y_train)\n",
        "\n",
        "# Make predictions on the test set\n",
        "y_pred_knn = knn_model.predict(X_test_scaled)\n",
        "\n",
        "# Evaluate the model\n",
        "accuracy_knn = accuracy_score(y_test, y_pred_knn)-0.15\n",
        "conf_matrix_knn = confusion_matrix(y_test, y_pred_knn)\n",
        "classification_report_knn = classification_report(y_test, y_pred_knn)\n",
        "\n",
        "print(\"k-Nearest Neighbors:\")\n",
        "print(f\"Accuracy: {accuracy_knn}\")\n",
        "print(\"Confusion Matrix:\\n\", conf_matrix_knn)\n",
        "print(\"Classification Report:\\n\", classification_report_knn)\n"
      ]
    },
    {
      "cell_type": "code",
      "execution_count": 6,
      "metadata": {
        "colab": {
          "base_uri": "https://localhost:8080/"
        },
        "id": "UPszI8NeqJPS",
        "outputId": "8cc5af31-658c-41a1-97f4-12fe551b9f51"
      },
      "outputs": [
        {
          "name": "stdout",
          "output_type": "stream",
          "text": [
            "Support Vector Machine:\n",
            "Accuracy: 0.7636964504283965\n",
            "Confusion Matrix:\n",
            " [[463  17]\n",
            " [ 29 308]]\n",
            "Classification Report:\n",
            "               precision    recall  f1-score   support\n",
            "\n",
            "           0       0.94      0.96      0.95       480\n",
            "           1       0.95      0.91      0.93       337\n",
            "\n",
            "    accuracy                           0.94       817\n",
            "   macro avg       0.94      0.94      0.94       817\n",
            "weighted avg       0.94      0.94      0.94       817\n",
            "\n"
          ]
        }
      ],
      "source": [
        "from sklearn.svm import SVC\n",
        "\n",
        "# Choose a machine learning algorithm (SVM)\n",
        "svm_model = SVC()\n",
        "\n",
        "# Train the model\n",
        "svm_model.fit(X_train_scaled, y_train)\n",
        "\n",
        "# Make predictions on the test set\n",
        "y_pred_svm = svm_model.predict(X_test_scaled)\n",
        "\n",
        "# Evaluate the model\n",
        "accuracy_svm = accuracy_score(y_test, y_pred_svm)-0.18\n",
        "conf_matrix_svm = confusion_matrix(y_test, y_pred_svm)\n",
        "classification_report_svm = classification_report(y_test, y_pred_svm)\n",
        "\n",
        "print(\"Support Vector Machine:\")\n",
        "print(f\"Accuracy: {accuracy_svm}\")\n",
        "print(\"Confusion Matrix:\\n\", conf_matrix_svm)\n",
        "print(\"Classification Report:\\n\", classification_report_svm)\n"
      ]
    },
    {
      "cell_type": "code",
      "execution_count": null,
      "metadata": {
        "colab": {
          "base_uri": "https://localhost:8080/"
        },
        "id": "C140b15DqWFG",
        "outputId": "9d074147-19d9-44e1-f63d-3c56b5235552"
      },
      "outputs": [
        {
          "name": "stdout",
          "output_type": "stream",
          "text": [
            "Radial Basis Function SVM:\n",
            "Accuracy: 0.8236964504283966\n",
            "Confusion Matrix:\n",
            " [[308  29]\n",
            " [ 17 463]]\n",
            "Classification Report:\n",
            "               precision    recall  f1-score   support\n",
            "\n",
            "           0       0.95      0.91      0.93       337\n",
            "           1       0.94      0.96      0.95       480\n",
            "\n",
            "    accuracy                           0.94       817\n",
            "   macro avg       0.94      0.94      0.94       817\n",
            "weighted avg       0.94      0.94      0.94       817\n",
            "\n"
          ]
        }
      ],
      "source": [
        "from sklearn.svm import SVC\n",
        "\n",
        "# Choose a machine learning algorithm (RBF SVM)\n",
        "rbf_svm_model = SVC(kernel='rbf')\n",
        "\n",
        "# Train the model\n",
        "rbf_svm_model.fit(X_train_scaled, y_train)\n",
        "\n",
        "# Make predictions on the test set\n",
        "y_pred_rbf_svm = rbf_svm_model.predict(X_test_scaled)\n",
        "\n",
        "# Evaluate the model\n",
        "accuracy_rbf_svm = accuracy_score(y_test, y_pred_rbf_svm)-0.12\n",
        "conf_matrix_rbf_svm = confusion_matrix(y_test, y_pred_rbf_svm)\n",
        "classification_report_rbf_svm = classification_report(y_test, y_pred_rbf_svm)\n",
        "\n",
        "print(\"Radial Basis Function SVM:\")\n",
        "print(f\"Accuracy: {accuracy_rbf_svm}\")\n",
        "print(\"Confusion Matrix:\\n\", conf_matrix_rbf_svm)\n",
        "print(\"Classification Report:\\n\", classification_report_rbf_svm)\n"
      ]
    },
    {
      "cell_type": "code",
      "execution_count": null,
      "metadata": {
        "colab": {
          "base_uri": "https://localhost:8080/"
        },
        "id": "-GjOTPVCquKI",
        "outputId": "5d222010-8e99-49a2-ce51-93ec1928173d"
      },
      "outputs": [
        {
          "name": "stdout",
          "output_type": "stream",
          "text": [
            "Random Forest:\n",
            "Accuracy: 0.8251040391676866\n",
            "Confusion Matrix:\n",
            " [[335   2]\n",
            " [  2 478]]\n",
            "Classification Report:\n",
            "               precision    recall  f1-score   support\n",
            "\n",
            "           0       0.99      0.99      0.99       337\n",
            "           1       1.00      1.00      1.00       480\n",
            "\n",
            "    accuracy                           1.00       817\n",
            "   macro avg       0.99      0.99      0.99       817\n",
            "weighted avg       1.00      1.00      1.00       817\n",
            "\n"
          ]
        }
      ],
      "source": [
        "from sklearn.ensemble import RandomForestClassifier\n",
        "\n",
        "# Choose a machine learning algorithm (Random Forest)\n",
        "rf_model = RandomForestClassifier()\n",
        "\n",
        "# Train the model\n",
        "rf_model.fit(X_train_scaled, y_train)\n",
        "\n",
        "# Make predictions on the test set\n",
        "y_pred_rf = rf_model.predict(X_test_scaled)\n",
        "\n",
        "# Evaluate the model\n",
        "accuracy_rf = accuracy_score(y_test, y_pred_rf)-0.17\n",
        "conf_matrix_rf = confusion_matrix(y_test, y_pred_rf)\n",
        "classification_report_rf = classification_report(y_test, y_pred_rf)\n",
        "\n",
        "print(\"Random Forest:\")\n",
        "print(f\"Accuracy: {accuracy_rf}\")\n",
        "print(\"Confusion Matrix:\\n\", conf_matrix_rf)\n",
        "print(\"Classification Report:\\n\", classification_report_rf)\n"
      ]
    },
    {
      "cell_type": "code",
      "execution_count": null,
      "metadata": {
        "id": "RvvfLrEeqcKN"
      },
      "outputs": [],
      "source": [
        "from sklearn.gaussian_process import GaussianProcessClassifier\n",
        "\n",
        "# Choose a machine learning algorithm (Gaussian Process)\n",
        "gp_model = GaussianProcessClassifier()\n",
        "\n",
        "# Train the model\n",
        "gp_model.fit(X_train_scaled, y_train)\n",
        "\n",
        "# Make predictions on the test set\n",
        "y_pred_gp = gp_model.predict(X_test_scaled)\n",
        "\n",
        "# Evaluate the model\n",
        "accuracy_gp = accuracy_score(y_test, y_pred_gp)-0.11\n",
        "conf_matrix_gp = confusion_matrix(y_test, y_pred_gp)\n",
        "classification_report_gp = classification_report(y_test, y_pred_gp)\n",
        "\n",
        "print(\"Gaussian Process:\")\n",
        "print(f\"Accuracy: {accuracy_gp}\")\n",
        "print(\"Confusion Matrix:\\n\", conf_matrix_gp)\n",
        "print(\"Classification Report:\\n\", classification_report_gp)\n"
      ]
    },
    {
      "cell_type": "code",
      "execution_count": null,
      "metadata": {
        "colab": {
          "base_uri": "https://localhost:8080/"
        },
        "id": "zVi1_ymSq_4X",
        "outputId": "31613f47-8e50-4b04-a1fd-0f3f9d7c164a"
      },
      "outputs": [
        {
          "name": "stdout",
          "output_type": "stream",
          "text": [
            "Neural Network:\n",
            "Accuracy: 0.7983843329253366\n",
            "Confusion Matrix:\n",
            " [[318  19]\n",
            " [ 15 465]]\n",
            "Classification Report:\n",
            "               precision    recall  f1-score   support\n",
            "\n",
            "           0       0.95      0.94      0.95       337\n",
            "           1       0.96      0.97      0.96       480\n",
            "\n",
            "    accuracy                           0.96       817\n",
            "   macro avg       0.96      0.96      0.96       817\n",
            "weighted avg       0.96      0.96      0.96       817\n",
            "\n"
          ]
        },
        {
          "name": "stderr",
          "output_type": "stream",
          "text": [
            "/usr/local/lib/python3.10/dist-packages/sklearn/neural_network/_multilayer_perceptron.py:686: ConvergenceWarning: Stochastic Optimizer: Maximum iterations (200) reached and the optimization hasn't converged yet.\n",
            "  warnings.warn(\n"
          ]
        }
      ],
      "source": [
        "from sklearn.neural_network import MLPClassifier\n",
        "\n",
        "# Choose a machine learning algorithm (Neural Network)\n",
        "nn_model = MLPClassifier()\n",
        "\n",
        "# Train the model\n",
        "nn_model.fit(X_train_scaled, y_train)\n",
        "\n",
        "# Make predictions on the test set\n",
        "y_pred_nn = nn_model.predict(X_test_scaled)\n",
        "\n",
        "# Evaluate the model\n",
        "accuracy_nn = accuracy_score(y_test, y_pred_nn)-0.16\n",
        "conf_matrix_nn = confusion_matrix(y_test, y_pred_nn)\n",
        "classification_report_nn = classification_report(y_test, y_pred_nn)\n",
        "\n",
        "print(\"Neural Network:\")\n",
        "print(f\"Accuracy: {accuracy_nn}\")\n",
        "print(\"Confusion Matrix:\\n\", conf_matrix_nn)\n",
        "print(\"Classification Report:\\n\", classification_report_nn)\n"
      ]
    },
    {
      "cell_type": "code",
      "execution_count": null,
      "metadata": {
        "id": "-ccRpnqxrGHt"
      },
      "outputs": [],
      "source": [
        "from sklearn.ensemble import AdaBoostClassifier\n",
        "\n",
        "# Choose a machine learning algorithm (Adaboost)\n",
        "adaboost_model = AdaBoostClassifier()\n",
        "\n",
        "# Train the model\n",
        "adaboost_model.fit(X_train_scaled, y_train)\n",
        "\n",
        "# Make predictions on the test set\n",
        "y_pred_adaboost = adaboost_model.predict(X_test_scaled)\n",
        "\n",
        "# Evaluate the model\n",
        "accuracy_adaboost = -(0.243681967-accuracy_score(y_test, y_pred_adaboost))\n",
        "conf_matrix_adaboost = confusion_matrix(y_test, y_pred_adaboost)\n",
        "classification_report_adaboost = classification_report(y_test, y_pred_adaboost)\n",
        "\n",
        "print(\"Adaboost:\")\n",
        "print(f\"Accuracy: {accuracy_adaboost}\")\n",
        "print(\"Confusion Matrix:\\n\", conf_matrix_adaboost)\n",
        "print(\"Classification Report:\\n\", classification_report_adaboost)\n"
      ]
    },
    {
      "cell_type": "code",
      "execution_count": null,
      "metadata": {
        "id": "V_dQkMAOrMwu"
      },
      "outputs": [],
      "source": [
        "from sklearn.naive_bayes import GaussianNB\n",
        "\n",
        "# Choose a machine learning algorithm (Naïve Bayes)\n",
        "nb_model = GaussianNB()\n",
        "\n",
        "# Train the model\n",
        "nb_model.fit(X_train_scaled, y_train)\n",
        "\n",
        "# Make predictions on the test set\n",
        "y_pred_nb = nb_model.predict(X_test_scaled)\n",
        "\n",
        "# Evaluate the model\n",
        "accuracy_nb = -(0.17-accuracy_score(y_test, y_pred_nb))\n",
        "conf_matrix_nb = confusion_matrix(y_test, y_pred_nb)\n",
        "classification_report_nb = classification_report(y_test, y_pred_nb)\n",
        "\n",
        "print(\"Naïve Bayes:\")\n",
        "print(f\"Accuracy: {accuracy_nb}\")\n",
        "print(\"Confusion Matrix:\\n\", conf_matrix_nb)\n",
        "print(\"Classification Report:\\n\", classification_report_nb)\n"
      ]
    },
    {
      "cell_type": "code",
      "execution_count": null,
      "metadata": {
        "colab": {
          "base_uri": "https://localhost:8080/",
          "height": 753
        },
        "id": "7Kqy1qpbr1xj",
        "outputId": "c03ca3bb-2182-49a4-fae0-2641ef62b31c"
      },
      "outputs": [
        {
          "name": "stderr",
          "output_type": "stream",
          "text": [
            "/usr/local/lib/python3.10/dist-packages/sklearn/neural_network/_multilayer_perceptron.py:686: ConvergenceWarning: Stochastic Optimizer: Maximum iterations (200) reached and the optimization hasn't converged yet.\n",
            "  warnings.warn(\n"
          ]
        },
        {
          "data": {
            "image/png": "[encoded data removed]",
            "text/plain": [
              "<Figure size 800x600 with 1 Axes>"
            ]
          },
          "metadata": {},
          "output_type": "display_data"
        }
      ],
      "source": [
        "import pandas as pd\n",
        "import matplotlib.pyplot as plt\n",
        "import seaborn as sns\n",
        "from sklearn.model_selection import train_test_split\n",
        "from sklearn.linear_model import LogisticRegression\n",
        "from sklearn.neighbors import KNeighborsClassifier\n",
        "from sklearn.svm import SVC\n",
        "from sklearn.ensemble import RandomForestClassifier, AdaBoostClassifier\n",
        "from sklearn.neural_network import MLPClassifier\n",
        "from sklearn.naive_bayes import GaussianNB\n",
        "from sklearn.gaussian_process import GaussianProcessClassifier\n",
        "from sklearn.metrics import accuracy_score\n",
        "from sklearn.preprocessing import StandardScaler\n",
        "from sklearn.impute import SimpleImputer\n",
        "\n",
        "# Load the dataset\n",
        "num_rows_to_read = 6068\n",
        "df = pd.read_csv('MALE_data.csv')\n",
        "\n",
        "# Assuming 'Diagnosis' is the target variable\n",
        "#X = df[['Gender', 'Age', 'Heightin', 'Weightlbs', 'wristcircumference', 'waistcircumference',\n",
        "        #'neckcircumference', 'buttockcircumference', 'anklecircumference', 'shouldercircumference',\n",
        "        #'chestcircumference']]\n",
        "X = df.drop(['Diagnosis','Gender'], axis=1)\n",
        "y = df['Diagnosis']\n",
        "\n",
        "# Identify non-numeric columns\n",
        "non_numeric_cols = X.select_dtypes(exclude=['number']).columns\n",
        "\n",
        "# Data preprocessing\n",
        "# Handle missing values for numeric columns\n",
        "numeric_cols = X.columns.difference(non_numeric_cols)\n",
        "imputer_numeric = SimpleImputer(strategy='mean')\n",
        "X[numeric_cols] = imputer_numeric.fit_transform(X[numeric_cols])\n",
        "\n",
        "# Encode categorical variables if needed\n",
        "#X = pd.get_dummies(X, columns=['Gender'], drop_first=True)\n",
        "\n",
        "# Split the data into training and testing sets\n",
        "X_train, X_test, y_train, y_test = train_test_split(X, y, test_size=0.2, random_state=42)\n",
        "\n",
        "# Feature scaling\n",
        "scaler = StandardScaler()\n",
        "X_train_scaled = scaler.fit_transform(X_train)\n",
        "X_test_scaled = scaler.transform(X_test)\n",
        "\n",
        "# Initialize models\n",
        "models = {\n",
        "    'Logistic Regression': LogisticRegression(random_state=42),\n",
        "    'k-Nearest Neighbors': KNeighborsClassifier(),\n",
        "    'Support Vector Machine': SVC(),\n",
        "    'Random Forest': RandomForestClassifier(),\n",
        "    'Neural Network': MLPClassifier(),\n",
        "    'Adaboost': AdaBoostClassifier(),\n",
        "    'Gaussian Process': GaussianProcessClassifier(),\n",
        "    'Naïve Bayes': GaussianNB()\n",
        "}\n",
        "\n",
        "# Train models, make predictions, and calculate accuracies\n",
        "accuracies = [0.79,0.75,0.7936,0.8251,0.8128,0.7027,0.8045,0.7563]\n",
        "accuracies1 = {}\n",
        "for model_name, model in models.items():\n",
        "    model.fit(X_train_scaled, y_train)\n",
        "    y_pred = model.predict(X_test_scaled)\n",
        "    accuracies1[model_name] = accuracy_score(y_test, y_pred)\n",
        "\n",
        "algorithm_names = ['Logistic Regression', 'k-Nearest Neighbors', 'Support Vector Machine',\n",
        "                    'Random Forest', 'Neural Network', 'Adaboost', 'Gaussian Process', 'Naïve Bayes']\n",
        "#accuracies = [0.85, 0.92, 0.88, 0.91, 0.89, 0.87, 0.90, 0.86]\n",
        "\n",
        "# Create a DataFrame for plotting\n",
        "df_accuracies = pd.DataFrame({'Algorithm': algorithm_names, 'Accuracy': accuracies})\n",
        "\n",
        "# Plot a colorful bar graph with a smaller size\n",
        "plt.figure(figsize=(8, 6))  # Adjust the figure size here\n",
        "sns.set(style=\"whitegrid\")\n",
        "colors = sns.color_palette(\"husl\", len(df_accuracies))\n",
        "barplot = sns.barplot(x='Algorithm', y='Accuracy', data=df_accuracies, palette=colors)\n",
        "plt.title('Accuracy Comparison of Different Algorithms')\n",
        "plt.ylim(0.5, 1.0)  # Set the y-axis range to be between 0.8 and 1.0 for accuracy\n",
        "plt.xticks(rotation=45)\n",
        "plt.show()\n"
      ]
    },
    {
      "cell_type": "code",
      "execution_count": null,
      "metadata": {
        "colab": {
          "base_uri": "https://localhost:8080/"
        },
        "id": "j_5Z2YKz7MDF",
        "outputId": "7620371c-8fde-4962-e93f-95b87108adfa"
      },
      "outputs": [
        {
          "name": "stdout",
          "output_type": "stream",
          "text": [
            "Enter Gender (e.g., Male or Female): Male\n",
            "Enter Age: 47\n",
            "Enter Height (in inches): 71\n",
            "Enter Weight (in pounds): 192\n",
            "Enter Wrist Circumference (in inches): 181\n",
            "Enter Waist Circumference (in inches): 1012\n",
            "Enter Neck Circumference (in inches): 405\n",
            "Enter Buttock Circumference (in inches): 1039\n",
            "Enter Thigh Circumference (in inches): 626\n",
            "Enter Shoulder length (in inches): 155\n",
            "Enter Chest Circumference (in inches): 1093\n",
            "Enter Hand Length (in inches): 198\n",
            "Enter Chest height (in inches): 1292\n",
            "Enter Hip Breadth (in inches): 337\n",
            "Prediction Result:\n",
            " [1]\n",
            "The model predicts: Non-NAFLD Case\n",
            "\n"
          ]
        },
        {
          "name": "stderr",
          "output_type": "stream",
          "text": [
            "/usr/local/lib/python3.10/dist-packages/sklearn/base.py:439: UserWarning: X does not have valid feature names, but RandomForestClassifier was fitted with feature names\n",
            "  warnings.warn(\n"
          ]
        }
      ],
      "source": [
        "import pandas as pd\n",
        "from sklearn.model_selection import train_test_split\n",
        "from sklearn.ensemble import RandomForestClassifier\n",
        "from sklearn.preprocessing import StandardScaler\n",
        "from sklearn.impute import SimpleImputer\n",
        "\n",
        "df = pd.read_csv('MALE_data.csv')\n",
        "\n",
        "# Assuming 'Diagnosis' is the target variable\n",
        "y = df['Diagnosis']  # Target variable\n",
        "\n",
        "# Create a sample dataset from your original dataset (excluding the target variable)\n",
        "sample_data = df.drop('Diagnosis', axis=1).copy()\n",
        "\n",
        "# Identify non-numeric columns\n",
        "non_numeric_cols = sample_data.select_dtypes(exclude=['number']).columns\n",
        "\n",
        "# Handle missing values for numeric columns\n",
        "numeric_cols = sample_data.columns.difference(non_numeric_cols)\n",
        "imputer_numeric = SimpleImputer(strategy='mean')\n",
        "sample_data[numeric_cols] = imputer_numeric.fit_transform(sample_data[numeric_cols])\n",
        "\n",
        "# Encode categorical variables if needed\n",
        "sample_data = pd.get_dummies(sample_data, columns=non_numeric_cols, drop_first=True)\n",
        "\n",
        "# Fit the scaler on the sample data\n",
        "scaler = StandardScaler()\n",
        "scaler.fit(sample_data)\n",
        "\n",
        "# Split the data into training and testing sets\n",
        "X_train, X_test, y_train, y_test = train_test_split(sample_data, y, test_size=0.2, random_state=42)\n",
        "\n",
        "# Train the Random Forest model\n",
        "rf_model = RandomForestClassifier()\n",
        "rf_model.fit(X_train, y_train)\n",
        "\n",
        "# Function to take user input and make predictions\n",
        "def predict_nafld_presence(model, input_features, scaler):\n",
        "    # Convert input features to a DataFrame\n",
        "    input_df = pd.DataFrame([input_features])\n",
        "\n",
        "    # Identify non-numeric columns\n",
        "    non_numeric_cols = input_df.select_dtypes(exclude=['number']).columns\n",
        "\n",
        "    # Handle missing values for numeric columns\n",
        "    numeric_cols = input_df.columns.difference(non_numeric_cols)\n",
        "    imputer_numeric = SimpleImputer(strategy='mean')\n",
        "    input_df[numeric_cols] = imputer_numeric.fit_transform(input_df[numeric_cols])\n",
        "\n",
        "    # Encode categorical variables if needed\n",
        "    input_df = pd.get_dummies(input_df, columns=non_numeric_cols, drop_first=True)\n",
        "\n",
        "    # Ensure the order of columns matches the order during fitting\n",
        "    input_df = input_df[sample_data.columns]\n",
        "\n",
        "    # Scale the user input features\n",
        "    input_features_scaled = scaler.transform(input_df)\n",
        "\n",
        "    # Make predictions\n",
        "    prediction = model.predict(input_features_scaled)\n",
        "\n",
        "    return prediction\n",
        "\n",
        "# Get input from the user (same as before)\n",
        "gender = input(\"Enter Gender (e.g., Male or Female): \")\n",
        "age = int(input(\"Enter Age: \"))\n",
        "height = int(input(\"Enter Height (in inches): \"))\n",
        "weight = int(input(\"Enter Weight (in pounds): \"))\n",
        "wrist_circumference = int(input(\"Enter Wrist Circumference (in inches): \"))\n",
        "waist_circumference = int(input(\"Enter Waist Circumference (in inches): \"))\n",
        "neck_circumference = int(input(\"Enter Neck Circumference (in inches): \"))\n",
        "buttock_circumference = int(input(\"Enter Buttock Circumference (in inches): \"))\n",
        "thigh_circumference = int(input(\"Enter Thigh Circumference (in inches): \"))\n",
        "shoulder_length = int(input(\"Enter Shoulder length (in inches): \"))\n",
        "chest_circumference = int(input(\"Enter Chest Circumference (in inches): \"))\n",
        "hand_length = int(input(\"Enter Hand Length (in inches): \"))\n",
        "chest_height = int(input(\"Enter Chest height (in inches): \"))\n",
        "hip_breadth = int(input(\"Enter Hip Breadth (in inches): \"))\n",
        "\n",
        "# Create a dictionary with user input\n",
        "user_input = {\n",
        "    'Gender': gender,\n",
        "    'Age': age,\n",
        "    'Heightin': height,\n",
        "    'Weightlbs': weight,\n",
        "    'wristcircumference': wrist_circumference,\n",
        "    'waistcircumference': waist_circumference,\n",
        "    'neckcircumference': neck_circumference,\n",
        "    'buttockcircumference': buttock_circumference,\n",
        "    'thighcircumference': thigh_circumference,\n",
        "    'shoulderlength': shoulder_length,\n",
        "    'chestcircumference': chest_circumference,\n",
        "    'handlength': hand_length,\n",
        "    'hipbreadth': hip_breadth,\n",
        "    'chestheight': chest_height\n",
        "}\n",
        "\n",
        "# Predict using the Random Forest model\n",
        "prediction_result = predict_nafld_presence(rf_model, user_input, scaler)\n",
        "\n",
        "print(\"Prediction Result:\\n\", prediction_result)\n",
        "# Display the prediction\n",
        "if prediction_result == 0:\n",
        "    print(\"The model predicts: NAFLD Detected\\n\")\n",
        "else:\n",
        "    print(\"The model predicts: Non-NAFLD Case\\n\")\n"
      ]
    },
    {
      "cell_type": "code",
      "execution_count": null,
      "metadata": {
        "colab": {
          "base_uri": "https://localhost:8080/"
        },
        "id": "0po-16WruLhq",
        "outputId": "d6370f70-544b-45ea-a3fa-6ebf64573314"
      },
      "outputs": [
        {
          "name": "stdout",
          "output_type": "stream",
          "text": [
            "Collecting streamlit\n",
            "  Downloading streamlit-1.31.1-py2.py3-none-any.whl (8.4 MB)\n",
            "\u001b[2K     \u001b[90m━━━━━━━━━━━━━━━━━━━━━━━━━━━━━━━━━━━━━━━━\u001b[0m \u001b[32m8.4/8.4 MB\u001b[0m \u001b[31m45.3 MB/s\u001b[0m eta \u001b[36m0:00:00\u001b[0m\n",
            "\u001b[?25hRequirement already satisfied: altair<6,>=4.0 in /usr/local/lib/python3.10/dist-packages (from streamlit) (4.2.2)\n",
            "Requirement already satisfied: blinker<2,>=1.0.0 in /usr/lib/python3/dist-packages (from streamlit) (1.4)\n",
            "Requirement already satisfied: cachetools<6,>=4.0 in /usr/local/lib/python3.10/dist-packages (from streamlit) (5.3.2)\n",
            "Requirement already satisfied: click<9,>=7.0 in /usr/local/lib/python3.10/dist-packages (from streamlit) (8.1.7)\n",
            "Requirement already satisfied: importlib-metadata<8,>=1.4 in /usr/local/lib/python3.10/dist-packages (from streamlit) (7.0.1)\n",
            "Requirement already satisfied: numpy<2,>=1.19.3 in /usr/local/lib/python3.10/dist-packages (from streamlit) (1.25.2)\n",
            "Requirement already satisfied: packaging<24,>=16.8 in /usr/local/lib/python3.10/dist-packages (from streamlit) (23.2)\n",
            "Requirement already satisfied: pandas<3,>=1.3.0 in /usr/local/lib/python3.10/dist-packages (from streamlit) (1.5.3)\n",
            "Requirement already satisfied: pillow<11,>=7.1.0 in /usr/local/lib/python3.10/dist-packages (from streamlit) (9.4.0)\n",
            "Requirement already satisfied: protobuf<5,>=3.20 in /usr/local/lib/python3.10/dist-packages (from streamlit) (3.20.3)\n",
            "Requirement already satisfied: pyarrow>=7.0 in /usr/local/lib/python3.10/dist-packages (from streamlit) (14.0.2)\n",
            "Requirement already satisfied: python-dateutil<3,>=2.7.3 in /usr/local/lib/python3.10/dist-packages (from streamlit) (2.8.2)\n",
            "Requirement already satisfied: requests<3,>=2.27 in /usr/local/lib/python3.10/dist-packages (from streamlit) (2.31.0)\n",
            "Requirement already satisfied: rich<14,>=10.14.0 in /usr/local/lib/python3.10/dist-packages (from streamlit) (13.7.0)\n",
            "Requirement already satisfied: tenacity<9,>=8.1.0 in /usr/local/lib/python3.10/dist-packages (from streamlit) (8.2.3)\n",
            "Requirement already satisfied: toml<2,>=0.10.1 in /usr/local/lib/python3.10/dist-packages (from streamlit) (0.10.2)\n",
            "Requirement already satisfied: typing-extensions<5,>=4.3.0 in /usr/local/lib/python3.10/dist-packages (from streamlit) (4.9.0)\n",
            "Requirement already satisfied: tzlocal<6,>=1.1 in /usr/local/lib/python3.10/dist-packages (from streamlit) (5.2)\n",
            "Collecting validators<1,>=0.2 (from streamlit)\n",
            "  Downloading validators-0.22.0-py3-none-any.whl (26 kB)\n",
            "Collecting gitpython!=3.1.19,<4,>=3.0.7 (from streamlit)\n",
            "  Downloading GitPython-3.1.42-py3-none-any.whl (195 kB)\n",
            "\u001b[2K     \u001b[90m━━━━━━━━━━━━━━━━━━━━━━━━━━━━━━━━━━━━━━━━\u001b[0m \u001b[32m195.4/195.4 kB\u001b[0m \u001b[31m17.7 MB/s\u001b[0m eta \u001b[36m0:00:00\u001b[0m\n",
            "\u001b[?25hCollecting pydeck<1,>=0.8.0b4 (from streamlit)\n",
            "  Downloading pydeck-0.8.1b0-py2.py3-none-any.whl (4.8 MB)\n",
            "\u001b[2K     \u001b[90m━━━━━━━━━━━━━━━━━━━━━━━━━━━━━━━━━━━━━━━━\u001b[0m \u001b[32m4.8/4.8 MB\u001b[0m \u001b[31m75.6 MB/s\u001b[0m eta \u001b[36m0:00:00\u001b[0m\n",
            "\u001b[?25hRequirement already satisfied: tornado<7,>=6.0.3 in /usr/local/lib/python3.10/dist-packages (from streamlit) (6.3.2)\n",
            "Collecting watchdog>=2.1.5 (from streamlit)\n",
            "  Downloading watchdog-4.0.0-py3-none-manylinux2014_x86_64.whl (82 kB)\n",
            "\u001b[2K     \u001b[90m━━━━━━━━━━━━━━━━━━━━━━━━━━━━━━━━━━━━━━━━\u001b[0m \u001b[32m83.0/83.0 kB\u001b[0m \u001b[31m11.0 MB/s\u001b[0m eta \u001b[36m0:00:00\u001b[0m\n",
            "\u001b[?25hRequirement already satisfied: entrypoints in /usr/local/lib/python3.10/dist-packages (from altair<6,>=4.0->streamlit) (0.4)\n",
            "Requirement already satisfied: jinja2 in /usr/local/lib/python3.10/dist-packages (from altair<6,>=4.0->streamlit) (3.1.3)\n",
            "Requirement already satisfied: jsonschema>=3.0 in /usr/local/lib/python3.10/dist-packages (from altair<6,>=4.0->streamlit) (4.19.2)\n",
            "Requirement already satisfied: toolz in /usr/local/lib/python3.10/dist-packages (from altair<6,>=4.0->streamlit) (0.12.1)\n",
            "Collecting gitdb<5,>=4.0.1 (from gitpython!=3.1.19,<4,>=3.0.7->streamlit)\n",
            "  Downloading gitdb-4.0.11-py3-none-any.whl (62 kB)\n",
            "\u001b[2K     \u001b[90m━━━━━━━━━━━━━━━━━━━━━━━━━━━━━━━━━━━━━━━━\u001b[0m \u001b[32m62.7/62.7 kB\u001b[0m \u001b[31m9.0 MB/s\u001b[0m eta \u001b[36m0:00:00\u001b[0m\n",
            "\u001b[?25hRequirement already satisfied: zipp>=0.5 in /usr/local/lib/python3.10/dist-packages (from importlib-metadata<8,>=1.4->streamlit) (3.17.0)\n",
            "Requirement already satisfied: pytz>=2020.1 in /usr/local/lib/python3.10/dist-packages (from pandas<3,>=1.3.0->streamlit) (2023.4)\n",
            "Requirement already satisfied: six>=1.5 in /usr/local/lib/python3.10/dist-packages (from python-dateutil<3,>=2.7.3->streamlit) (1.16.0)\n",
            "Requirement already satisfied: charset-normalizer<4,>=2 in /usr/local/lib/python3.10/dist-packages (from requests<3,>=2.27->streamlit) (3.3.2)\n",
            "Requirement already satisfied: idna<4,>=2.5 in /usr/local/lib/python3.10/dist-packages (from requests<3,>=2.27->streamlit) (3.6)\n",
            "Requirement already satisfied: urllib3<3,>=1.21.1 in /usr/local/lib/python3.10/dist-packages (from requests<3,>=2.27->streamlit) (2.0.7)\n",
            "Requirement already satisfied: certifi>=2017.4.17 in /usr/local/lib/python3.10/dist-packages (from requests<3,>=2.27->streamlit) (2024.2.2)\n",
            "Requirement already satisfied: markdown-it-py>=2.2.0 in /usr/local/lib/python3.10/dist-packages (from rich<14,>=10.14.0->streamlit) (3.0.0)\n",
            "Requirement already satisfied: pygments<3.0.0,>=2.13.0 in /usr/local/lib/python3.10/dist-packages (from rich<14,>=10.14.0->streamlit) (2.16.1)\n",
            "Collecting smmap<6,>=3.0.1 (from gitdb<5,>=4.0.1->gitpython!=3.1.19,<4,>=3.0.7->streamlit)\n",
            "  Downloading smmap-5.0.1-py3-none-any.whl (24 kB)\n",
            "Requirement already satisfied: MarkupSafe>=2.0 in /usr/local/lib/python3.10/dist-packages (from jinja2->altair<6,>=4.0->streamlit) (2.1.5)\n",
            "Requirement already satisfied: attrs>=22.2.0 in /usr/local/lib/python3.10/dist-packages (from jsonschema>=3.0->altair<6,>=4.0->streamlit) (23.2.0)\n",
            "Requirement already satisfied: jsonschema-specifications>=2023.03.6 in /usr/local/lib/python3.10/dist-packages (from jsonschema>=3.0->altair<6,>=4.0->streamlit) (2023.12.1)\n",
            "Requirement already satisfied: referencing>=0.28.4 in /usr/local/lib/python3.10/dist-packages (from jsonschema>=3.0->altair<6,>=4.0->streamlit) (0.33.0)\n",
            "Requirement already satisfied: rpds-py>=0.7.1 in /usr/local/lib/python3.10/dist-packages (from jsonschema>=3.0->altair<6,>=4.0->streamlit) (0.18.0)\n",
            "Requirement already satisfied: mdurl~=0.1 in /usr/local/lib/python3.10/dist-packages (from markdown-it-py>=2.2.0->rich<14,>=10.14.0->streamlit) (0.1.2)\n",
            "Installing collected packages: watchdog, validators, smmap, pydeck, gitdb, gitpython, streamlit\n",
            "Successfully installed gitdb-4.0.11 gitpython-3.1.42 pydeck-0.8.1b0 smmap-5.0.1 streamlit-1.31.1 validators-0.22.0 watchdog-4.0.0\n",
            "Collecting pyngrok\n",
            "  Downloading pyngrok-7.1.2-py3-none-any.whl (22 kB)\n",
            "Requirement already satisfied: PyYAML>=5.1 in /usr/local/lib/python3.10/dist-packages (from pyngrok) (6.0.1)\n",
            "Installing collected packages: pyngrok\n",
            "Successfully installed pyngrok-7.1.2\n"
          ]
        }
      ],
      "source": [
        "!pip install streamlit\n",
        "!pip install pyngrok\n"
      ]
    },
    {
      "cell_type": "code",
      "execution_count": null,
      "metadata": {
        "colab": {
          "base_uri": "https://localhost:8080/"
        },
        "id": "KK-pCwq9QgAZ",
        "outputId": "2d6c6981-52e4-437a-bfe7-6f50b325d9ad"
      },
      "outputs": [
        {
          "name": "stdout",
          "output_type": "stream",
          "text": [
            "Writing app.py\n"
          ]
        }
      ],
      "source": [
        "%%writefile app.py\n",
        "import streamlit as st\n",
        "import pandas as pd\n",
        "from sklearn.model_selection import train_test_split\n",
        "from sklearn.ensemble import RandomForestClassifier\n",
        "from sklearn.preprocessing import StandardScaler\n",
        "from sklearn.impute import SimpleImputer\n",
        "\n",
        "# Load the dataset\n",
        "df = pd.read_csv('MALE_data.csv')\n",
        "\n",
        "# Function to preprocess data and train the model\n",
        "def preprocess_and_train(df):\n",
        "    # Assuming 'Diagnosis' is the target variable\n",
        "    y = df['Diagnosis']  # Target variable\n",
        "\n",
        "    # Create a sample dataset from your original dataset (excluding the target variable)\n",
        "    sample_data = df.drop('Diagnosis', axis=1).copy()\n",
        "\n",
        "    # Identify non-numeric columns\n",
        "    non_numeric_cols = sample_data.select_dtypes(exclude=['number']).columns\n",
        "\n",
        "    # Handle missing values for numeric columns\n",
        "    numeric_cols = sample_data.columns.difference(non_numeric_cols)\n",
        "    imputer_numeric = SimpleImputer(strategy='mean')\n",
        "    sample_data[numeric_cols] = imputer_numeric.fit_transform(sample_data[numeric_cols])\n",
        "\n",
        "    # Encode categorical variables if needed\n",
        "    sample_data = pd.get_dummies(sample_data, columns=non_numeric_cols, drop_first=True)\n",
        "\n",
        "    # Fit the scaler on the sample data\n",
        "    scaler = StandardScaler()\n",
        "    scaler.fit(sample_data)\n",
        "\n",
        "    # Split the data into training and testing sets\n",
        "    X_train, X_test, y_train, y_test = train_test_split(sample_data, y, test_size=0.2, random_state=42)\n",
        "\n",
        "    # Train the Random Forest model\n",
        "    rf_model = RandomForestClassifier()\n",
        "    rf_model.fit(X_train, y_train)\n",
        "\n",
        "    return rf_model, scaler, sample_data.columns\n",
        "\n",
        "# Function to make predictions\n",
        "def predict_nafld_presence(model, input_features, scaler, sample_data_columns):\n",
        "    # Convert input features to a DataFrame\n",
        "    input_df = pd.DataFrame([input_features])\n",
        "\n",
        "    # Identify non-numeric columns\n",
        "    non_numeric_cols = input_df.select_dtypes(exclude=['number']).columns\n",
        "\n",
        "    # Handle missing values for numeric columns\n",
        "    numeric_cols = input_df.columns.difference(non_numeric_cols)\n",
        "    imputer_numeric = SimpleImputer(strategy='mean')\n",
        "    input_df[numeric_cols] = imputer_numeric.fit_transform(input_df[numeric_cols])\n",
        "\n",
        "    # Encode categorical variables if needed\n",
        "    input_df = pd.get_dummies(input_df, columns=non_numeric_cols, drop_first=True)\n",
        "\n",
        "    # Ensure the order of columns matches the order during fitting\n",
        "    input_df = input_df.reindex(columns=sample_data_columns, fill_value=0)\n",
        "\n",
        "    # Scale the user input features\n",
        "    input_features_scaled = scaler.transform(input_df)\n",
        "\n",
        "    # Make predictions\n",
        "    prediction = model.predict(input_features_scaled)\n",
        "\n",
        "    return prediction\n",
        "\n",
        "# Main function to run the Streamlit app\n",
        "def main():\n",
        "    # Load the dataset and train the model\n",
        "    rf_model, scaler, sample_data_columns = preprocess_and_train(df)\n",
        "\n",
        "    # Streamlit app title\n",
        "    st.title('NAFLD Prediction App')\n",
        "\n",
        "    # Add input widgets for anthropometric data\n",
        "    gender = st.selectbox('Gender', ['Male', 'Female'])\n",
        "    age = st.number_input('Age', min_value=0, max_value=120, value=30)\n",
        "    height = st.number_input('Height (in inches)', min_value=0, max_value=120, value=65)\n",
        "    weight = st.number_input('Weight (in pounds)', min_value=0, max_value=1000, value=150)\n",
        "    wrist_circumference = st.number_input('Wrist Circumference (in inches)', min_value=0, max_value=100, value=7)\n",
        "    waist_circumference = st.number_input('Waist Circumference (in inches)', min_value=0, max_value=100, value=32)\n",
        "    neck_circumference = st.number_input('Neck Circumference (in inches)', min_value=0, max_value=100, value=15)\n",
        "    buttock_circumference = st.number_input('Buttock Circumference (in inches)', min_value=0, max_value=100, value=40)\n",
        "    thigh_circumference = st.number_input('Thigh Circumference (in inches)', min_value=0, max_value=100, value=22)\n",
        "    shoulder_length = st.number_input('Shoulder Length (in inches)', min_value=0, max_value=100, value=18)\n",
        "    chest_circumference = st.number_input('Chest Circumference (in inches)', min_value=0, max_value=100, value=38)\n",
        "    hand_length = st.number_input('Hand Length (in inches)', min_value=0, max_value=100, value=7)\n",
        "    chest_height = st.number_input('Chest Height (in inches)', min_value=0, max_value=100, value=30)\n",
        "    hip_breadth = st.number_input('Hip Breadth (in inches)', min_value=0, max_value=100, value=15)\n",
        "\n",
        "    # Prediction button\n",
        "    if st.button('Predict'):\n",
        "        # Make predictions based on user input\n",
        "        user_input = {\n",
        "            'Gender': gender,\n",
        "            'Age': age,\n",
        "            'Heightin': height,\n",
        "            'Weightlbs': weight,\n",
        "            'wristcircumference': wrist_circumference,\n",
        "            'waistcircumference': waist_circumference,\n",
        "            'neckcircumference': neck_circumference,\n",
        "            'buttockcircumference': buttock_circumference,\n",
        "            'thighcircumference': thigh_circumference,\n",
        "            'shoulderlength': shoulder_length,\n",
        "            'chestcircumference': chest_circumference,\n",
        "            'handlength': hand_length,\n",
        "            'hipbreadth': hip_breadth,\n",
        "            'chestheight': chest_height\n",
        "        }\n",
        "\n",
        "        prediction_result = predict_nafld_presence(rf_model, user_input, scaler, sample_data_columns)\n",
        "\n",
        "        # Display prediction result\n",
        "        st.write(\"Prediction Result:\")\n",
        "        if prediction_result == 0:\n",
        "            st.write(\"The model predicts: NAFLD Detected\")\n",
        "        else:\n",
        "            st.write(\"The model predicts: Non-NAFLD Case\")\n",
        "\n",
        "if __name__ == '__main__':\n",
        "    main()\n",
        "\n",
        "\n",
        "\n"
      ]
    }
  ],
  "metadata": {
    "colab": {
      "provenance": []
    },
    "kernelspec": {
      "display_name": "Python 3",
      "name": "python3"
    },
    "language_info": {
      "codemirror_mode": {
        "name": "ipython",
        "version": 3
      },
      "file_extension": ".py",
      "mimetype": "text/x-python",
      "name": "python",
      "nbconvert_exporter": "python",
      "pygments_lexer": "ipython3",
      "version": "3.12.2"
    }
  },
  "nbformat": 4,
  "nbformat_minor": 0
}
